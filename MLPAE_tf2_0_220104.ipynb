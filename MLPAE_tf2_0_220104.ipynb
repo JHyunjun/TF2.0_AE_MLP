{
  "nbformat": 4,
  "nbformat_minor": 0,
  "metadata": {
    "colab": {
      "name": "MLPAE_tf2.0.ipynb",
      "private_outputs": true,
      "provenance": [],
      "collapsed_sections": [],
      "mount_file_id": "1AkQs1hkDMfn2ne_7vb1sgDsG3jh1f9mB",
      "authorship_tag": "ABX9TyMqSpzjsOI4NLy2+JPjDS3M",
      "include_colab_link": true
    },
    "kernelspec": {
      "name": "python3",
      "display_name": "Python 3"
    },
    "language_info": {
      "name": "python"
    },
    "accelerator": "GPU"
  },
  "cells": [
    {
      "cell_type": "markdown",
      "metadata": {
        "id": "view-in-github",
        "colab_type": "text"
      },
      "source": [
        "<a href=\"https://colab.research.google.com/github/JHyunjun/TF2.0_AE_MLP/blob/main/MLPAE_tf2_0_220104.ipynb\" target=\"_parent\"><img src=\"https://colab.research.google.com/assets/colab-badge.svg\" alt=\"Open In Colab\"/></a>"
      ]
    },
    {
      "cell_type": "code",
      "execution_count": null,
      "metadata": {
        "id": "44UfphRUC9Gb"
      },
      "outputs": [],
      "source": [
        "# Created by Hyunjun, JANG\n",
        "# limitsinx.tistory.com\n",
        "\n",
        "import numpy as np\n",
        "import pandas as pd\n",
        "import tensorflow as tf\n",
        "import pandas_datareader.data as pdr\n",
        "import matplotlib.pyplot as plt\n",
        "import datetime\n",
        "tf.random.set_seed(1)\n",
        "\n",
        "#Data Load\n",
        "df_train = pd.read_csv('/content/drive/MyDrive/Colab Notebooks/Data/AE/Train_1.txt', sep= \"\\t\")\n",
        "df_test = pd.read_csv('/content/drive/MyDrive/Colab Notebooks/Data/AE/Test_O.txt',sep= \"\\t\")\n",
        "df_test2 = pd.read_csv('/content/drive/MyDrive/Colab Notebooks/Data/AE/Test_X.txt',sep= \"\\t\")\n",
        "train_data = df_train.iloc[:,:]\n",
        "test_data = df_test.iloc[:,:]\n",
        "test_data2 = df_test2.iloc[:,:]\n",
        "print(train_data)\n",
        "print(test_data)\n",
        "print(test_data2)"
      ]
    },
    {
      "cell_type": "code",
      "source": [
        "from google.colab import drive\n",
        "drive.mount('/content/drive')"
      ],
      "metadata": {
        "id": "mD57-bkPxQ2B"
      },
      "execution_count": null,
      "outputs": []
    },
    {
      "cell_type": "code",
      "source": [
        "#Normalization\n",
        "def MinMaxScaler(data):\n",
        "  denom = np.max(data,0) - np.min(data,0)\n",
        "  nume = data-np.min(data,0)\n",
        "  return nume/denom\n",
        "\n",
        "def back_MinMax(data,max,min):\n",
        "  diff = max-min\n",
        "  back = data * diff + min\n",
        "  return back"
      ],
      "metadata": {
        "id": "3gxSIbYyEi6c"
      },
      "execution_count": null,
      "outputs": []
    },
    {
      "cell_type": "code",
      "source": [
        "#Hyper parameters\n",
        "seqLength = 0\n",
        "dataDim = df_test.shape[1]\n",
        "outputDim = 8\n",
        "hiddenDim = 30\n",
        "lr = 0.002\n",
        "iterations = 10\n",
        "batch_size = 16\n",
        "\n",
        "trainSize = int(len(train_data))\n",
        "trainSet = train_data[0:trainSize]\n",
        "testSize = int(len(test_data))\n",
        "testSet = test_data[0:testSize]\n",
        "testSize2 = int(len(test_data2))\n",
        "testSet2 = test_data2[0:testSize2]\n",
        "\n",
        "\n",
        "testSet_for_result = testSet\n",
        "\n",
        "trainSet_max = np.max(trainSet)\n",
        "trainSet_min = np.min(trainSet)\n",
        "testSet_max = np.max(testSet)\n",
        "testSet_min = np.min(testSet)\n",
        "trainSet_max = (trainSet_max[dataDim-1])\n",
        "trainSet_min = (trainSet_min[dataDim-1])\n",
        "testSet_max = (testSet_max[dataDim-1])\n",
        "testSet_min = (testSet_min[dataDim-1])\n",
        "\n",
        "trainSet = MinMaxScaler(trainSet)\n",
        "testSet = MinMaxScaler(testSet)\n",
        "testSet2 = MinMaxScaler(testSet2)\n",
        "\n",
        "print(trainSet.shape) # (131874 ,8)\n",
        "print(testSet.shape) # (20986, 8)\n",
        "print(testSet2.shape) # (99669, 8)"
      ],
      "metadata": {
        "id": "OjbFMLlfE_20"
      },
      "execution_count": null,
      "outputs": []
    },
    {
      "cell_type": "code",
      "source": [
        ""
      ],
      "metadata": {
        "id": "RUw8C2wGiYp9"
      },
      "execution_count": null,
      "outputs": []
    },
    {
      "cell_type": "code",
      "source": [
        "# Data Preprocessing\n",
        "input_dim = trainSet.shape[1]\n",
        "print(input_dim)\n",
        "trainX = trainSet.iloc[:,0:input_dim] \n",
        "trainY = trainSet.iloc[:,0:input_dim]\n",
        "testX = testSet.iloc[:,0:input_dim] \n",
        "testY = testSet.iloc[:,0:input_dim]\n",
        "test2X = testSet2.iloc[:,0:input_dim]\n",
        "test2Y = testSet2.iloc[:,0:input_dim]\n"
      ],
      "metadata": {
        "id": "hkgAa-s25TfE"
      },
      "execution_count": null,
      "outputs": []
    },
    {
      "cell_type": "code",
      "source": [
        "# Multi Layer Perceptron(MLP) Modeling\n",
        "# Activation function \"tanh\" : Glorot normal initializer\n",
        "# Activation function \"reLU\" : He Initiailizer\n",
        "from tensorflow import keras\n",
        "from tensorflow.keras import layers\n",
        "\n",
        "initializer = tf.keras.initializers.GlorotNormal()\n",
        "input_dim = input_dim\n",
        "model = keras.Sequential()\n",
        "model.add(layers.Dense(units = hiddenDim, activation='linear',input_dim = input_dim, kernel_initializer = initializer))\n",
        "model.add(layers.Dense(units = hiddenDim, activation = 'linear', kernel_initializer = initializer))\n",
        "model.add(layers.Dense(units = hiddenDim, activation = 'linear', kernel_initializer = initializer))\n",
        "model.add(layers.Dense(units = hiddenDim, activation = 'linear', kernel_initializer = initializer))\n",
        "model.add(layers.Dense(units = hiddenDim, activation = 'linear', kernel_initializer = initializer))\n",
        "model.add(layers.Dense(units = hiddenDim, activation = 'linear', kernel_initializer = initializer))\n",
        "model.add(layers.Dense(input_dim, activation='linear'))\n",
        "adam = keras.optimizers.Adam(lr = lr)\n",
        "model.compile(optimizer=adam, loss='mse')\n",
        "model.summary()\n"
      ],
      "metadata": {
        "id": "dpgI1N9ZW1P0"
      },
      "execution_count": null,
      "outputs": []
    },
    {
      "cell_type": "code",
      "source": [
        "# Training\n",
        "hist = model.fit(trainX, trainX, epochs = iterations * 2, batch_size = batch_size)"
      ],
      "metadata": {
        "id": "xjIIZqBue38u"
      },
      "execution_count": null,
      "outputs": []
    },
    {
      "cell_type": "code",
      "source": [
        "# Evaluate Testset\n",
        "res = model.evaluate(testX, testX, batch_size = batch_size)\n",
        "print(res)\n",
        "#res_batch_size1 = model.evaluate(testX, testY, batch_size = 1) #Very Slow\n"
      ],
      "metadata": {
        "id": "kQ-hAfInm4nL"
      },
      "execution_count": null,
      "outputs": []
    },
    {
      "cell_type": "code",
      "source": [
        "# Estimating\n",
        "xhat = testX\n",
        "xhat2 = test2X\n",
        "yhat = model.predict(xhat)\n",
        "yhat2 = model.predict(xhat2)\n",
        "testY = testY.to_numpy()\n",
        "print(\"test Y : \", testY, testY.shape,type(testY))\n",
        "print(\"yhat : \",yhat, yhat.shape,type(yhat))\n",
        "\n",
        "print(\"RMSE : {}\".format(np.sqrt(np.average((yhat - testY)**2))))\n",
        "print(xhat.shape)"
      ],
      "metadata": {
        "id": "zyDqzwynn_I1"
      },
      "execution_count": null,
      "outputs": []
    },
    {
      "cell_type": "code",
      "source": [
        "estimated = back_MinMax(yhat,testSet_max,testSet_min) \n",
        "estimated= estimated[:,-1]\n",
        "print(\"Estimated : \",estimated)\n",
        "real = testSet_for_result.iloc[:,-1] # estimated + seqLength\n",
        "print(\"REAL : \",real)\n",
        "plt.figure()\n",
        "plt.plot(estimated[:len(estimated)],label = \"Estimated by MLP\")\n",
        "plt.plot(real[:len(real)], label = \"Real\")\n",
        "plt.legend(prop = {'size':10})"
      ],
      "metadata": {
        "id": "U__JUtnEzkRJ"
      },
      "execution_count": null,
      "outputs": []
    },
    {
      "cell_type": "code",
      "source": [
        "print(\"yhat : \",yhat.shape, yhat)\n",
        "print(\"testY : \",testY.shape, testY)\n",
        "print(\"test2Y : \",test2Y.shape, test2Y)\n",
        "\n",
        "Loss = np.abs(np.abs(yhat) - np.abs(testY))\n",
        "print(\"////////////////\\\\\\\\\\\\\\\\\\\\\\\\\\\\\\\\\\\\\\\\\\\\\\\\\\\\\\\\\\\\\\\\\\\\\\\\\\\\\\\\\\/\")\n",
        "print(\"Loss : \",Loss.shape, Loss)\n",
        "print(\"XXXXXXXXXXXXXXXXXXXXXXXXXXXXXXXXXXXXXXXXXXXXXXXXXXXXXXXXXXXXXX\")\n",
        "Rank_Loss = Loss.sum(axis=1)\n",
        "print(\"Rank Loss1 : \",Rank_Loss.shape, Rank_Loss)\n",
        "Loss2 = np.abs(np.abs(yhat2)-np.abs(test2Y))\n",
        "Rank_Loss2 = Loss2.sum(axis=1)\n",
        "\n",
        "plt.figure()\n",
        "plt.plot(Rank_Loss2[:len(Rank_Loss2)],label = \"X_Abnormal\")\n",
        "plt.legend(prop = {'size':10})\n",
        "\n",
        "plt.figure()\n",
        "plt.plot(Rank_Loss[:len(Rank_Loss)],label = \"O_Normal\")\n",
        "plt.legend(prop = {'size':10})"
      ],
      "metadata": {
        "id": "0LnXc2tBxqcY"
      },
      "execution_count": null,
      "outputs": []
    }
  ]
}